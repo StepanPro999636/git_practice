{
 "cells": [
  {
   "cell_type": "code",
   "execution_count": null,
   "id": "1b17580f",
   "metadata": {},
   "outputs": [],
   "source": [
    "print(\"Hello, Git!\")"
   ]
  }
 ],
 "metadata": {
  "language_info": {
   "name": "python"
  }
 },
 "nbformat": 4,
 "nbformat_minor": 5
}
